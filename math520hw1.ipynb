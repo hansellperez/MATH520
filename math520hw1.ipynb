{
 "cells": [
  {
   "cell_type": "code",
   "execution_count": 2,
   "id": "f63a1694",
   "metadata": {},
   "outputs": [],
   "source": [
    "import numpy as np\n",
    "\n",
    "def bandLU(K, p, q):\n",
    "    n = K.shape[0]\n",
    "\n",
    "    for m in range(n - 1):\n",
    "        for i in range(m + 2, min(m + p + 1, n)):\n",
    "            K[i, m] = K[i, m] / K[m, m]\n",
    "\n",
    "        for j in range(m + 2, min(m + q + 1, n)):\n",
    "            for i in range(m + 2, min(m + p + 1, n)):\n",
    "                K[i, j] -= K[i, m] * K[m, j]\n",
    "\n",
    "    return K\n",
    "\n",
    "def bandforward(L, f, p):\n",
    "    n = len(f)\n",
    "    z = np.zeros_like(f)\n",
    "    \n",
    "    for i in range(n):\n",
    "        cumsum = 0\n",
    "        for j in range(max(0, i - p), i):\n",
    "            cumsum += L[i, j] * z[j]\n",
    "        \n",
    "        z[i] = (f[i] - cumsum) / L[i, i]\n",
    "\n",
    "    return z\n",
    "\n",
    "def bandbackward(U, f, q):\n",
    "    n = len(f)\n",
    "    w = np.zeros_like(f)\n",
    "\n",
    "    for i in range(n - 1, -1, -1):\n",
    "        cumsum = 0\n",
    "        for j in range(i + 1, min(n, i + q + 1)):\n",
    "            cumsum += U[i, j] * w[j]\n",
    "        \n",
    "        w[i] = (f[i] - cumsum) / U[i, i]\n",
    "\n",
    "    return w"
   ]
  },
  {
   "cell_type": "code",
   "execution_count": 3,
   "id": "3c0d10e6",
   "metadata": {},
   "outputs": [],
   "source": [
    "banded_matrix = np.array([\n",
    "    [5, 2, 0, 0],\n",
    "    [1, 6, 3, 0],\n",
    "    [0, 4, 7, 1],\n",
    "    [0, 0, 5, 8]\n",
    "])"
   ]
  },
  {
   "cell_type": "code",
   "execution_count": null,
   "id": "c2074c69",
   "metadata": {},
   "outputs": [],
   "source": [
    "bandLU"
   ]
  }
 ],
 "metadata": {
  "kernelspec": {
   "display_name": "Python 3 (ipykernel)",
   "language": "python",
   "name": "python3"
  },
  "language_info": {
   "codemirror_mode": {
    "name": "ipython",
    "version": 3
   },
   "file_extension": ".py",
   "mimetype": "text/x-python",
   "name": "python",
   "nbconvert_exporter": "python",
   "pygments_lexer": "ipython3",
   "version": "3.9.16"
  }
 },
 "nbformat": 4,
 "nbformat_minor": 5
}
