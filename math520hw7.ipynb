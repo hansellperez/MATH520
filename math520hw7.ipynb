{
 "cells": [
  {
   "cell_type": "code",
   "execution_count": 1,
   "id": "031e5302",
   "metadata": {},
   "outputs": [],
   "source": [
    "import numpy as np\n",
    "\n",
    "def gaussQuadStd1d(g, noOfIntegPt):\n",
    "    \"\"\"Computes the integral ∫ g(ξ) dξ using Gaussian quadrature on [-1,1]\"\"\"\n",
    "    if noOfIntegPt == 2:\n",
    "        points = np.array([-1/np.sqrt(3), 1/np.sqrt(3)])\n",
    "        weights = np.array([1, 1])\n",
    "    elif noOfIntegPt == 3:\n",
    "        points = np.array([-np.sqrt(3/5), 0, np.sqrt(3/5)])\n",
    "        weights = np.array([5/9, 8/9, 5/9])\n",
    "    else:\n",
    "        return 0\n",
    "    \n",
    "    return sum(w * g(xi) for w, xi in zip(weights, points))\n",
    "\n",
    "def gaussQuad1d(fn, lowerLimit, upperLimit, noOfIntegPt):\n",
    "    transform = lambda ξ: (upperLimit - lowerLimit) / 2 * ξ + (upperLimit + lowerLimit) / 2\n",
    "    g = lambda ξ: fn(transform(ξ)) * (upperLimit - lowerLimit) / 2 \n",
    "\n",
    "    return gaussQuadStd1d(g, noOfIntegPt)"
   ]
  },
  {
   "cell_type": "code",
   "execution_count": 2,
   "id": "ff715d90",
   "metadata": {},
   "outputs": [],
   "source": [
    "from scipy.optimize import root_scalar\n",
    "\n",
    "def midPtCurve(f, fder, x1, x2):\n",
    "    \"\"\"\n",
    "    Find the midpoint along the curve y = f(x) from x1 to x2 in arc length.\n",
    "\n",
    "    inputs:\n",
    "    - f: function f(x)\n",
    "    - fder: derivative f'(x)\n",
    "    - x1, x2: x-coordinates of curve segment endpoints\n",
    "\n",
    "    output:\n",
    "    - (xm, ym): coordinates of the midpoint along the curve\n",
    "    \"\"\"\n",
    "\n",
    "    # Define the arc length integrand\n",
    "    #def arc_length_integrand(x):\n",
    "     #   return np.sqrt(1 + (fder(x))**2)\n",
    "    arc_length_integrand = lambda t: np.sqrt(1 + (fder(t))**2)\n",
    "\n",
    "    # Compute total arc length (L) from x1 to x2\n",
    "    L = gaussQuad1d(arc_length_integrand, x1, x2, 2)\n",
    "    \n",
    "    # Define the arc length function (l(x)) from x1 to x\n",
    "    l = lambda x: gaussQuad1d(arc_length_integrand, x1, x, 2)\n",
    "\n",
    "    # Define m(x) = l(x) - L/2\n",
    "    m = lambda x: l(x) - L/2\n",
    "\n",
    "    # Use root-finding to solve m(xm) = 0\n",
    "    sol = root_scalar(m, bracket=[x1, x2], method='brentq', xtol=1e-6)\n",
    "\n",
    "    if not sol.converged:\n",
    "        raise ValueError(\"Root finding for midpoint did not converge.\")\n",
    "\n",
    "    xm = sol.root\n",
    "    ym = f(xm)\n",
    "\n",
    "    return xm, ym"
   ]
  },
  {
   "cell_type": "code",
   "execution_count": 3,
   "id": "f855f835",
   "metadata": {},
   "outputs": [
    {
     "name": "stdout",
     "output_type": "stream",
     "text": [
      "mid point = (-10.694564612658947,-1169.704232630375)\n"
     ]
    }
   ],
   "source": [
    "import numpy as np\n",
    "\n",
    "f1 = lambda x: x**3 - 5*x\n",
    "f1der = lambda x: 3*x**2 - 5\n",
    "x1 = -12.4\n",
    "x2 = -8.12\n",
    "xm, ym = midPtCurve(f1,f1der,x1,x2)\n",
    "print(f'mid point = ({xm},{ym})')"
   ]
  },
  {
   "cell_type": "code",
   "execution_count": 4,
   "id": "d183213f",
   "metadata": {},
   "outputs": [
    {
     "name": "stdout",
     "output_type": "stream",
     "text": [
      "mid point = (-0.25251771525908207,0.97182886391468)\n"
     ]
    }
   ],
   "source": [
    "f2 = lambda x: np.cos(x) - 0.22*x**3\n",
    "f2der = lambda x: -np.sin(x) - 0.66*x**2\n",
    "x1 = -1\n",
    "x2 = 0.5\n",
    "xm, ym = midPtCurve(f2,f2der,x1,x2)\n",
    "print(f'mid point = ({xm},{ym})')"
   ]
  },
  {
   "cell_type": "code",
   "execution_count": 5,
   "id": "3a891281",
   "metadata": {},
   "outputs": [],
   "source": [
    "from scipy.spatial import Delaunay\n",
    "\n",
    "def delaunayMesh(nodes):\n",
    "    \"\"\"\n",
    "    Generate a mesh for a QUADRILATERAL domain given by specified nodes\n",
    "    {(x, y) | |x|+2|y| ≤ 4}\n",
    "    \n",
    "    inputs: \n",
    "     - nodes: 2D numpy array with 2 columns representing the x- and y- coordinates of the nodes.\n",
    "     \n",
    "    outputs:\n",
    "     - triangles: 2D numpy array with 3 columns, the e-th row lists the 3 vertices of the e-th element.\n",
    "     - edges: 2D numpy array with 2 columns. In each row, two vertices of one edge is listed.\n",
    "     - bdyNode: numpy boolean array, the i-th element determines the i-th node's nature as a boundary\n",
    "     - bdyEdge: numpy boolean array, the i-th element determines the i-th node's nature as a boundary\n",
    "    \"\"\"\n",
    "    # Verify nodes is of acceptable dimension and nonzero\n",
    "    if not nodes.ndim == 2 and nodes.shape[0] > 2:\n",
    "        raise ValueError(\"nodes is of unexpected dimensions\")\n",
    "    \n",
    "    # Initialize bdyNode array\n",
    "    bdyNode = np.zeros(len(nodes), dtype = bool)\n",
    "    \n",
    "    # loop through nodes array to determine the nature of each node\n",
    "    for i in range(len(nodes)):\n",
    "        if np.abs(nodes[i,0]) + 2*np.abs(nodes[i,1]) == 4:\n",
    "            bdyNode[i] = True\n",
    "        else:\n",
    "            bdyNode[i] = False\n",
    "    \n",
    "    # Set up triangles matrix, accounting for the first node being 1 NOT 0\n",
    "    triangles = Delaunay(nodes).simplices + np.ones_like(Delaunay(nodes).simplices)\n",
    "    \n",
    "    # Initialize edges matrix, 3 edges for each triangle in the mesh\n",
    "    edges = np.zeros((3*len(triangles), 2))\n",
    "    for i in range(len(triangles)):\n",
    "        edges[3*i, :] = np.array([triangles[i,0], triangles[i,1]])\n",
    "        edges[3*i + 1, :] = np.array([triangles[i,0], triangles[i,2]])\n",
    "        edges[3*i + 2, :] = np.array([triangles[i,1], triangles[i,2]])\n",
    "        \n",
    "    edges = np.sort(edges, axis=1) # sort matrix by column to make filtering repeated edges easier\n",
    "    edges, counts = np.unique(edges, axis=0, return_counts = True)\n",
    "    edges = edges[1:]\n",
    "    counts = counts[1:]\n",
    "    \n",
    "    # for boundary edges make sure it is only present in one triangle, i.e only on one row of triangles matrix\n",
    "    bdyEdge = np.zeros(len(edges), dtype = bool) # size is of len(edges)x1\n",
    "    for i in range(len(edges)):\n",
    "        if counts[i] > 1:\n",
    "            bdyEdge[i] = False\n",
    "        else:\n",
    "            bdyEdge[i] = True\n",
    "    \n",
    "    return triangles, edges, bdyNode, bdyEdge"
   ]
  },
  {
   "cell_type": "code",
   "execution_count": 6,
   "id": "4806b88d",
   "metadata": {},
   "outputs": [
    {
     "name": "stdout",
     "output_type": "stream",
     "text": [
      "triangle = [[2 4 9]\n",
      " [4 2 3]\n",
      " [8 2 9]\n",
      " [2 8 1]\n",
      " [4 6 9]\n",
      " [6 4 5]\n",
      " [6 8 9]\n",
      " [8 6 7]]\n",
      "edges = [[1. 8.]\n",
      " [2. 3.]\n",
      " [2. 4.]\n",
      " [2. 8.]\n",
      " [2. 9.]\n",
      " [3. 4.]\n",
      " [4. 5.]\n",
      " [4. 6.]\n",
      " [4. 9.]\n",
      " [5. 6.]\n",
      " [6. 7.]\n",
      " [6. 8.]\n",
      " [6. 9.]\n",
      " [7. 8.]\n",
      " [8. 9.]]\n",
      "bdyEdges = [ True  True False False False  True  True False False  True  True False\n",
      " False  True False]\n"
     ]
    }
   ],
   "source": [
    "nodes1 = np.array([[-1,0],[-0.5,-0.5],[0,-1],[0.5,-0.5],[1,0],[0.5,0.5],[0,1],[-0.5,0.5],[0,0]])\n",
    "triangles1,edges1, bdyNode1, bdyEdge1 = delaunayMesh(nodes1)\n",
    "print(f'triangle = {triangles1}')\n",
    "print(f'edges = {edges1}')\n",
    "print(f'bdyEdges = {bdyEdge1}')"
   ]
  },
  {
   "cell_type": "code",
   "execution_count": null,
   "id": "47e70c91",
   "metadata": {},
   "outputs": [],
   "source": []
  }
 ],
 "metadata": {
  "kernelspec": {
   "display_name": "Python 3 (ipykernel)",
   "language": "python",
   "name": "python3"
  },
  "language_info": {
   "codemirror_mode": {
    "name": "ipython",
    "version": 3
   },
   "file_extension": ".py",
   "mimetype": "text/x-python",
   "name": "python",
   "nbconvert_exporter": "python",
   "pygments_lexer": "ipython3",
   "version": "3.9.16"
  }
 },
 "nbformat": 4,
 "nbformat_minor": 5
}
