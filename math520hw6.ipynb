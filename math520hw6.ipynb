{
 "cells": [
  {
   "cell_type": "code",
   "execution_count": 44,
   "id": "b46fc8c1",
   "metadata": {},
   "outputs": [],
   "source": [
    "import numpy as np\n",
    "\n",
    "def gaussQuadStd1d(g, noOfIntegPt):\n",
    "    \"\"\"Computes the integral ∫ g(ξ) dξ using Gaussian quadrature on [-1,1]\"\"\"\n",
    "    if noOfIntegPt == 2:\n",
    "        points = np.array([-1/np.sqrt(3), 1/np.sqrt(3)])\n",
    "        weights = np.array([1, 1])\n",
    "    elif noOfIntegPt == 3:\n",
    "        points = np.array([-np.sqrt(3/5), 0, np.sqrt(3/5)])\n",
    "        weights = np.array([5/9, 8/9, 5/9])\n",
    "    else:\n",
    "        return 0\n",
    "    \n",
    "    return sum(w * g(xi) for w, xi in zip(weights, points))\n",
    "\n",
    "def gaussQuad1d(fn, lowerLimit, upperLimit, noOfIntegPt):\n",
    "    transform = lambda ξ: (upperLimit - lowerLimit) / 2 * ξ + (upperLimit + lowerLimit) / 2\n",
    "    g = lambda ξ: fn(transform(ξ)) * (upperLimit - lowerLimit) / 2 \n",
    "\n",
    "    return gaussQuadStd1d(g, noOfIntegPt)\n",
    "\n",
    "def shapeFn1d(i, x, x1, x2, p):\n",
    "    \n",
    "    if x < x1 or x > x2:\n",
    "        return 0  \n",
    "    \n",
    "    if p == 1:  \n",
    "        if i == 1:\n",
    "            return (x2 - x) / (x2 - x1)\n",
    "        elif i == 2:\n",
    "            return (x - x1) / (x2 - x1)\n",
    "    \n",
    "    elif p == 2: \n",
    "        mid = (x1 + x2) / 2  \n",
    "        \n",
    "        if i == 1:\n",
    "            return (x - mid) * (x - x2) / ((x1 - mid) * (x1 - x2))\n",
    "        elif i == 2:\n",
    "            return (x - x1) * (x - x2) / ((mid - x1) * (mid - x2))\n",
    "        elif i == 3:\n",
    "            return (x - x1) * (x - mid) / ((x2 - x1) * (x2 - mid))\n",
    "    \n",
    "    return 0  \n",
    "\n",
    "\n",
    "def shapeFnDer1d(i, x, x1, x2, p):\n",
    "    \n",
    "    if x < x1 or x > x2:\n",
    "        return 0  \n",
    "    \n",
    "    if p == 1:  \n",
    "        if i == 1:\n",
    "            return -1 / (x2 - x1)\n",
    "        elif i == 2:\n",
    "            return 1 / (x2 - x1)\n",
    "    \n",
    "    elif p == 2:  \n",
    "        mid = (x1 + x2) / 2  \n",
    "        \n",
    "        if i == 1:\n",
    "            return ((2*x - x2 - mid) / ((x1 - mid) * (x1 - x2)))\n",
    "        elif i == 2:\n",
    "            return ((2*x - x1 - x2) / ((mid - x1) * (mid - x2)))\n",
    "        elif i == 3:\n",
    "            return ((2*x - x1 - mid) / ((x2 - x1) * (x2 - mid)))\n",
    "    \n",
    "    return 0\n",
    "def meij(e, i, j, xh, shapeFn, noOfIntegPt):\n",
    "    \"\"\"Computes the mass matrix entry M^e_ij.\"\"\"\n",
    "    x1, x2 = xh[e-1], xh[e]\n",
    "    \n",
    "    def integrand(x):\n",
    "        return shapeFn1d(i, x, x1, x2, shapeFn) * shapeFn1d(j, x, x1, x2, shapeFn)\n",
    "\n",
    "    return gaussQuad1d(integrand, x1, x2, noOfIntegPt)\n",
    "\n",
    "def keij(a, c, e, i, j, xh, shapeFn, noOfIntegPt):\n",
    "    \"\"\"Computes the stiffness matrix entry K^e_ij.\"\"\"\n",
    "    x1, x2 = xh[e-1], xh[e]\n",
    "\n",
    "    def integrand(x):\n",
    "        dphi_i = shapeFnDer1d(i, x, x1, x2, shapeFn)\n",
    "        dphi_j = shapeFnDer1d(j, x, x1, x2, shapeFn)\n",
    "        phi_i = shapeFn1d(i, x, x1, x2, shapeFn)\n",
    "        phi_j = shapeFn1d(j, x, x1, x2, shapeFn)\n",
    "\n",
    "        return (a(x) * dphi_i * dphi_j + c(x) * phi_i * phi_j)\n",
    "\n",
    "    return gaussQuad1d(integrand, x1, x2, noOfIntegPt)\n",
    "\n",
    "def fei(a, c, f, p0, e, i, xh, shapeFn, noOfIntegPt):\n",
    "    \"\"\"Computes the load vector entry F^e_i.\"\"\"\n",
    "    x1, x2 = xh[e-1], xh[e]\n",
    "\n",
    "    def integrand(x):\n",
    "        phi_i = shapeFn1d(i, x, x1, x2, shapeFn)\n",
    "        dphi_i = shapeFnDer1d(i, x, x1, x2, shapeFn)\n",
    "        G = p0*shapeFn1d(1,x,xh[0],xh[1],shapeFn)\n",
    "        Gx = p0*shapeFnDer1d(1,x,xh[0],xh[1],shapeFn)\n",
    "        return (f(x) * shapeFn1d(i, x, x1, x2, shapeFn) - a(x)*Gx*dphi_i - c(x)*G*phi_i)\n",
    "        \n",
    "    return gaussQuad1d(integrand, x1, x2, noOfIntegPt)"
   ]
  },
  {
   "cell_type": "code",
   "execution_count": 45,
   "id": "87ff5e24",
   "metadata": {},
   "outputs": [
    {
     "name": "stdout",
     "output_type": "stream",
     "text": [
      "meij(4,1,2,xh,1,3) = 0.06666666666666668\n",
      "keij(a,c,4,1,2,xh,1,3) = -15.340000000000003\n",
      "fei(a,c,f,p0,1,2,xh,1,3) = 3.2924848499213506\n",
      "fei(a,c,f,p0,1,2,xh,1,3) = 0.10121663279971532\n"
     ]
    }
   ],
   "source": [
    "a = lambda x: 3*x + x**2\n",
    "c = lambda x: x\n",
    "f = lambda x: np.sin(x)\n",
    "p0 = 2\n",
    "xh = np.linspace(0.,2.,6)\n",
    "print(f'meij(4,1,2,xh,1,3) = { meij(4,1,2,xh,1,3) }')\n",
    "print(f'keij(a,c,4,1,2,xh,1,3) = {keij(a,c,4,1,2,xh,1,3) }')\n",
    "print(f'fei(a,c,f,p0,1,2,xh,1,3) = {fei(a,c,f,p0,1,2,xh,1,3)}')\n",
    "print(f'fei(a,c,f,p0,1,2,xh,1,3) = {fei(a,c,f,p0,2,1,xh,1,3)}')"
   ]
  },
  {
   "cell_type": "code",
   "execution_count": 51,
   "id": "80ccfa68",
   "metadata": {},
   "outputs": [
    {
     "name": "stdout",
     "output_type": "stream",
     "text": [
      " meij(4,3,2,xh,2,3) = 0.026666666666666672\n",
      " keij(a,c,4,1,2,xh,2,3) = -37.32799999999999\n",
      " fei(a,c,f,p0,1,2,xh,2,3) = 4.372766997748158\n"
     ]
    }
   ],
   "source": [
    "print(f' meij(4,3,2,xh,2,3) = {meij(4,3,2,xh,2,3)}')\n",
    "print(f' keij(a,c,4,1,2,xh,2,3) = {keij(a,c,4,1,2,xh,2,3) }')\n",
    "print(f' fei(a,c,f,p0,1,2,xh,2,3) = {fei(a,c,f,p0,1,2,xh,2,3) }')"
   ]
  },
  {
   "cell_type": "code",
   "execution_count": 42,
   "id": "bd5e38bc",
   "metadata": {},
   "outputs": [],
   "source": [
    "import numpy as np\n",
    "import scipy.sparse as sp\n",
    "\n",
    "def massM(xh, shapeFn, noOfIntegPt):\n",
    "    \n",
    "    n_elem = len(xh) - 1  # Number of elements\n",
    "    n_nodes = n_elem * shapeFn  # Total nodes based on shape function order\n",
    "    \n",
    "    # Initialize sparse matrix\n",
    "    M = sp.lil_matrix((n_nodes, n_nodes))\n",
    "    \n",
    "    # Loop over each element\n",
    "    for e in range(1, n_elem + 1):\n",
    "        x1, x2 = xh[e-1], xh[e]  # Element endpoints\n",
    "        \n",
    "        # Local mass matrix for element e\n",
    "        local_M = np.zeros((shapeFn + 1, shapeFn + 1))\n",
    "        \n",
    "        for i in range(1, shapeFn + 2):\n",
    "            for j in range(1, shapeFn + 2):\n",
    "                local_M[i-1, j-1] = meij(e, i, j, xh, shapeFn, noOfIntegPt)\n",
    "        \n",
    "        # Assemble into global matrix\n",
    "        if shapeFn == 1:\n",
    "            if e == 1:\n",
    "                M[0,0] = local_M[-1,-1]\n",
    "            else:\n",
    "                for i in range(shapeFn + 1):\n",
    "                    for j in range(shapeFn + 1):\n",
    "                        global_i = e - 2 + i\n",
    "                        global_j = e - 2 + j\n",
    "                        M[global_i, global_j] += local_M[i, j]\n",
    "        else:\n",
    "            if e == 1:\n",
    "                for i in range(1,3):\n",
    "                    for j in range(1,3):\n",
    "                        M[i-1,j-1] = local_M[i,j]\n",
    "            else:\n",
    "                for i in range(shapeFn + 1):\n",
    "                    for j in range(shapeFn + 1):\n",
    "                        global_i = 2*e - 3 + i        \n",
    "                        global_j = 2*e - 3 + j\n",
    "                        M[global_i, global_j] += local_M[i,j]\n",
    "    \n",
    "    return M.tocsr()  # Convert to CSR format for efficiency\n"
   ]
  },
  {
   "cell_type": "code",
   "execution_count": 5,
   "id": "9ae8280c",
   "metadata": {},
   "outputs": [
    {
     "name": "stdout",
     "output_type": "stream",
     "text": [
      "massM(xh, 1, 2) = \n",
      "  (0, 0)\t0.2666666666666667\n",
      "  (0, 1)\t0.06666666666666664\n",
      "  (1, 0)\t0.06666666666666664\n",
      "  (1, 1)\t0.2666666666666668\n",
      "  (1, 2)\t0.06666666666666665\n",
      "  (2, 1)\t0.06666666666666665\n",
      "  (2, 2)\t0.26666666666666683\n",
      "  (2, 3)\t0.06666666666666662\n",
      "  (3, 2)\t0.06666666666666662\n",
      "  (3, 3)\t0.2666666666666667\n",
      "  (3, 4)\t0.06666666666666662\n",
      "  (4, 3)\t0.06666666666666662\n",
      "  (4, 4)\t0.13333333333333336\n"
     ]
    }
   ],
   "source": [
    "print(f'massM(xh, 1, 2) = ')\n",
    "print(f'{massM(xh, 1, 2) }')"
   ]
  },
  {
   "cell_type": "code",
   "execution_count": 6,
   "id": "27d37248",
   "metadata": {
    "scrolled": true
   },
   "outputs": [
    {
     "name": "stdout",
     "output_type": "stream",
     "text": [
      "massM(xh, 2, 2) = \n",
      "  (0, 0)\t0.2222222222222222\n",
      "  (0, 1)\t0.055555555555555566\n",
      "  (1, 0)\t0.055555555555555566\n",
      "  (1, 1)\t0.11111111111111108\n",
      "  (1, 2)\t0.05555555555555555\n",
      "  (1, 3)\t-0.027777777777777776\n",
      "  (2, 1)\t0.05555555555555555\n",
      "  (2, 2)\t0.22222222222222227\n",
      "  (2, 3)\t0.05555555555555555\n",
      "  (3, 1)\t-0.027777777777777776\n",
      "  (3, 2)\t0.05555555555555555\n",
      "  (3, 3)\t0.11111111111111119\n",
      "  (3, 4)\t0.055555555555555594\n",
      "  (3, 5)\t-0.027777777777777797\n",
      "  (4, 3)\t0.055555555555555594\n",
      "  (4, 4)\t0.2222222222222219\n",
      "  (4, 5)\t0.055555555555555594\n",
      "  (5, 3)\t-0.027777777777777797\n",
      "  (5, 4)\t0.055555555555555594\n",
      "  (5, 5)\t0.05555555555555566\n"
     ]
    }
   ],
   "source": [
    "xh = np.linspace(0.,1.5,4)\n",
    "print(f'massM(xh, 2, 2) = ')\n",
    "print(f'{massM(xh, 2, 2) }')"
   ]
  },
  {
   "cell_type": "code",
   "execution_count": 29,
   "id": "209617cd",
   "metadata": {},
   "outputs": [],
   "source": [
    "import numpy as np\n",
    "import scipy.sparse as sp\n",
    "\n",
    "def stiffK(a, c, xh, shapeFn, noOfIntegPt):\n",
    "    \n",
    "    n_elem = len(xh) - 1  # Number of elements\n",
    "    n_nodes = n_elem * shapeFn  # Total nodes based on shape function order\n",
    "\n",
    "    # Initialize sparse matrix\n",
    "    K = sp.lil_matrix((n_nodes, n_nodes))\n",
    "\n",
    "    # Loop over each element\n",
    "    for e in range(1, n_elem + 1):\n",
    "        x1, x2 = xh[e-1], xh[e]  # Element endpoints\n",
    "        \n",
    "        # Local stiffness matrix for element e\n",
    "        local_K = np.zeros((shapeFn + 1, shapeFn + 1))\n",
    "        \n",
    "        for i in range(1, shapeFn + 2):\n",
    "            for j in range(1, shapeFn + 2):\n",
    "                local_K[i-1, j-1] = keij(a, c, e, i, j, xh, shapeFn, noOfIntegPt)\n",
    "\n",
    "        # Assemble into global matrix\n",
    "        if shapeFn == 1:\n",
    "            if e == 1:\n",
    "                K[0,0] = local_K[-1,-1]\n",
    "            else:\n",
    "                for i in range(shapeFn + 1):\n",
    "                    for j in range(shapeFn + 1):\n",
    "                        global_i = e - 2 + i\n",
    "                        global_j = e - 2 + j\n",
    "                        K[global_i, global_j] += local_K[i, j]\n",
    "        else:\n",
    "            if e == 1:\n",
    "                for i in range(1,3):\n",
    "                    for j in range(1,3):\n",
    "                        K[i-1,j-1] = local_K[i,j]\n",
    "            else:\n",
    "                for i in range(shapeFn + 1):\n",
    "                    for j in range(shapeFn + 1):\n",
    "                        global_i = 2*e - 3 + i        \n",
    "                        global_j = 2*e - 3 + j\n",
    "                        K[global_i, global_j] += local_K[i,j]\n",
    "\n",
    "    return K.tocsr()  # Convert to CSR format for efficient calculations\n"
   ]
  },
  {
   "cell_type": "code",
   "execution_count": 30,
   "id": "6368c74d",
   "metadata": {},
   "outputs": [
    {
     "name": "stdout",
     "output_type": "stream",
     "text": [
      "stiffK(a, c, xh, 1, 2) = \n",
      "  (0, 0)\t7.173333333333336\n",
      "  (0, 1)\t-5.393333333333334\n",
      "  (1, 0)\t-5.393333333333334\n",
      "  (1, 1)\t15.68\n",
      "  (1, 2)\t-9.966666666666665\n",
      "  (2, 1)\t-9.966666666666665\n",
      "  (2, 2)\t25.78666666666667\n",
      "  (2, 3)\t-15.340000000000003\n",
      "  (3, 2)\t-15.340000000000003\n",
      "  (3, 3)\t37.49333333333334\n",
      "  (3, 4)\t-21.51333333333334\n",
      "  (4, 3)\t-21.51333333333334\n",
      "  (4, 4)\t21.88666666666667\n"
     ]
    }
   ],
   "source": [
    "print(f'stiffK(a, c, xh, 1, 2) = ')\n",
    "print(f'{stiffK(a, c, xh, 1, 2)}')"
   ]
  },
  {
   "cell_type": "code",
   "execution_count": 31,
   "id": "8ce02ca3",
   "metadata": {},
   "outputs": [
    {
     "name": "stdout",
     "output_type": "stream",
     "text": [
      "stiffK(a, c, xh, 2, 2) = \n",
      "  (0, 0)\t8.74666666666667\n",
      "  (0, 1)\t-6.604444444444447\n",
      "  (1, 0)\t-6.604444444444447\n",
      "  (1, 1)\t15.991111111111111\n",
      "  (1, 2)\t-11.671111111111117\n",
      "  (1, 3)\t1.7977777777777857\n",
      "  (2, 1)\t-11.671111111111115\n",
      "  (2, 2)\t29.08444444444449\n",
      "  (2, 3)\t-17.253333333333373\n",
      "  (3, 1)\t1.7977777777777857\n",
      "  (3, 2)\t-17.253333333333373\n",
      "  (3, 3)\t35.6266666666667\n",
      "  (3, 4)\t-23.38666666666669\n",
      "  (3, 5)\t3.322222222222238\n",
      "  (4, 3)\t-23.38666666666669\n",
      "  (4, 4)\t53.68888888888894\n",
      "  (4, 5)\t-30.03555555555558\n",
      "  (5, 3)\t3.322222222222238\n",
      "  (5, 4)\t-30.03555555555558\n",
      "  (5, 5)\t58.9955555555556\n",
      "  (5, 6)\t-37.235555555555614\n",
      "  (5, 7)\t5.113333333333358\n",
      "  (6, 5)\t-37.235555555555614\n",
      "  (6, 6)\t82.56000000000013\n",
      "  (6, 7)\t-44.95111111111118\n",
      "  (7, 5)\t5.113333333333358\n",
      "  (7, 6)\t-44.95111111111119\n",
      "  (7, 7)\t86.09777777777788\n",
      "  (7, 8)\t-53.21777777777786\n",
      "  (7, 9)\t7.171111111111145\n",
      "  (8, 7)\t-53.21777777777786\n",
      "  (8, 8)\t115.69777777777796\n",
      "  (8, 9)\t-62.000000000000085\n",
      "  (9, 7)\t7.171111111111145\n",
      "  (9, 8)\t-62.000000000000085\n",
      "  (9, 9)\t54.96222222222227\n"
     ]
    }
   ],
   "source": [
    "print(f'stiffK(a, c, xh, 2, 2) = ')\n",
    "print(f'{stiffK(a, c, xh, 2, 2)}')"
   ]
  },
  {
   "cell_type": "code",
   "execution_count": 50,
   "id": "2d1d2ed1",
   "metadata": {},
   "outputs": [],
   "source": [
    "import numpy as np\n",
    "\n",
    "def loadF(a, c, f, p0, QL, xh, shapeFn, noOfIntegPt):\n",
    "    \n",
    "    n_elem = len(xh) - 1  # Number of elements\n",
    "    n_nodes = n_elem * shapeFn  # Total nodes based on shape function order\n",
    "\n",
    "    # Initialize global load vector\n",
    "    F = np.zeros(n_nodes)\n",
    "\n",
    "    # Loop over elements\n",
    "    for e in range(1, n_elem + 1):\n",
    "        x1, x2 = xh[e-1], xh[e]  # Element endpoints\n",
    "        \n",
    "        # Local load vector\n",
    "        local_F = np.zeros(shapeFn + 1)\n",
    "\n",
    "        for i in range(1, shapeFn + 2):\n",
    "            local_F[i-1] = fei(a, c, f, p0, e, i, xh, shapeFn, noOfIntegPt)\n",
    "\n",
    "        # Assemble local contributions into global load vector\n",
    "        if shapeFn == 1:\n",
    "            if e == 1:\n",
    "                F[0] = local_F[-1]\n",
    "            else:\n",
    "                for i in range(shapeFn + 1):\n",
    "                    global_i = e - 2 + i\n",
    "                    F[global_i] += local_F[i]\n",
    "        else:\n",
    "            if e == 1:\n",
    "                for i in range (1,3):\n",
    "                    F[i-1] = local_F[i]\n",
    "            else:\n",
    "                for i in range(shapeFn + 1):\n",
    "                    global_i = 2*e - 3 + i\n",
    "                    F[global_i] += local_F[i]\n",
    "\n",
    "    # Apply Neumann boundary condition at x = L\n",
    "    F[-1] += QL\n",
    "\n",
    "    return F\n"
   ]
  },
  {
   "cell_type": "code",
   "execution_count": 47,
   "id": "ce54a24c",
   "metadata": {},
   "outputs": [
    {
     "name": "stdout",
     "output_type": "stream",
     "text": [
      "loadF(a,c,f,p0,-3,xh,1, 2) = [ 3.39370424  0.28314196  0.36787779  0.39453381 -2.80955013]\n"
     ]
    }
   ],
   "source": [
    "print(f'loadF(a,c,f,p0,-3,xh,1, 2) = {loadF(a, c, f, p0, -3, xh, 1, 2)}')"
   ]
  },
  {
   "cell_type": "code",
   "execution_count": 52,
   "id": "4b108134",
   "metadata": {},
   "outputs": [
    {
     "name": "stdout",
     "output_type": "stream",
     "text": [
      "loadF(a,c,f,p0,-3,xh,2,2) = [ 4.23040347 -1.02739292  0.14956863  0.09690866  0.22289798  0.12591049\n",
      "  0.26103663  0.13503382  0.25796334 -2.9385318 ]\n"
     ]
    }
   ],
   "source": [
    "print(f'loadF(a,c,f,p0,-3,xh,2,2) = {loadF(a,c,f,p0,-3,xh,2,2)}')"
   ]
  },
  {
   "cell_type": "code",
   "execution_count": 10,
   "id": "66660361",
   "metadata": {},
   "outputs": [],
   "source": [
    "import numpy as np\n",
    "\n",
    "def L2norm1d(f, a, b, numElmnt):\n",
    "    \n",
    "    # Divide [a, b] into numElmnt subintervals\n",
    "    xh = np.linspace(a, b, numElmnt + 1)\n",
    "\n",
    "    integral_value = 0  # Initialize sum for integral\n",
    "\n",
    "    # Loop over each element [xh[i], xh[i+1]]\n",
    "    for i in range(numElmnt):\n",
    "        xl, xr = xh[i], xh[i + 1]\n",
    "        \n",
    "        # Function to integrate (f squared)\n",
    "        integrand = lambda x: f(x) ** 2\n",
    "        \n",
    "        # Integrate over subinterval\n",
    "        integral_value += gaussQuad1d(integrand, xl, xr, 3)  # 3-point Gaussian quadrature\n",
    "\n",
    "    return np.sqrt(integral_value)  # Compute L2 norm\n"
   ]
  },
  {
   "cell_type": "code",
   "execution_count": 11,
   "id": "a4eedf6a",
   "metadata": {},
   "outputs": [
    {
     "name": "stdout",
     "output_type": "stream",
     "text": [
      "L2norm1d(f,0,2,5)=1.0905047679741269\n"
     ]
    }
   ],
   "source": [
    "print(f'L2norm1d(f,0,2,5)={L2norm1d(f,0,2,5)}')"
   ]
  },
  {
   "cell_type": "code",
   "execution_count": null,
   "id": "90cef1e4",
   "metadata": {},
   "outputs": [],
   "source": [
    "f = lambda x: 3*x*np.sin(x)\n",
    "print(L2norm1d(f,-2.44,1.77,9))"
   ]
  },
  {
   "cell_type": "code",
   "execution_count": null,
   "id": "36d87bc7",
   "metadata": {},
   "outputs": [],
   "source": [
    "len(np.array([1, .2, .5, .8]))"
   ]
  },
  {
   "cell_type": "code",
   "execution_count": null,
   "id": "24b2254a",
   "metadata": {},
   "outputs": [],
   "source": [
    "for i in range(1,5):\n",
    "    print(i)"
   ]
  },
  {
   "cell_type": "code",
   "execution_count": null,
   "id": "f2061efc",
   "metadata": {},
   "outputs": [],
   "source": [
    "for i in range(5):\n",
    "    print(i)"
   ]
  },
  {
   "cell_type": "code",
   "execution_count": null,
   "id": "f8153e20",
   "metadata": {},
   "outputs": [],
   "source": [
    "xh = np.linspace(0.,2.,6)\n",
    "print(xh)"
   ]
  },
  {
   "cell_type": "code",
   "execution_count": null,
   "id": "d46b430b",
   "metadata": {},
   "outputs": [],
   "source": [
    "array_2d = np.array([\n",
    "    [1, 2, 3, 4],\n",
    "    [5, 6, 7, 8],\n",
    "    [9, 10, 11, 12]\n",
    "])"
   ]
  },
  {
   "cell_type": "code",
   "execution_count": null,
   "id": "474d164d",
   "metadata": {},
   "outputs": [],
   "source": [
    "array_2d[0:1,1:2]"
   ]
  },
  {
   "cell_type": "code",
   "execution_count": 9,
   "id": "b2050593",
   "metadata": {},
   "outputs": [
    {
     "data": {
      "text/plain": [
       "array([0., 0., 0.])"
      ]
     },
     "execution_count": 9,
     "metadata": {},
     "output_type": "execute_result"
    }
   ],
   "source": [
    "np.zeros(3)"
   ]
  },
  {
   "cell_type": "code",
   "execution_count": 20,
   "id": "1193b417",
   "metadata": {},
   "outputs": [
    {
     "data": {
      "text/plain": [
       "3.2925078026268055"
      ]
     },
     "execution_count": 20,
     "metadata": {},
     "output_type": "execute_result"
    }
   ],
   "source": [
    "fei(a, c, f, p0, 1, 2, xh, 1, 2)"
   ]
  },
  {
   "cell_type": "code",
   "execution_count": 21,
   "id": "ee4fd7da",
   "metadata": {},
   "outputs": [
    {
     "data": {
      "text/plain": [
       "-10.898803562591137"
      ]
     },
     "execution_count": 21,
     "metadata": {},
     "output_type": "execute_result"
    }
   ],
   "source": [
    "fei(a, c, f, p0, 2, 1, xh, 1, 2)"
   ]
  },
  {
   "cell_type": "code",
   "execution_count": 24,
   "id": "d7c6f824",
   "metadata": {},
   "outputs": [
    {
     "data": {
      "text/plain": [
       "-7.606295759964332"
      ]
     },
     "execution_count": 24,
     "metadata": {},
     "output_type": "execute_result"
    }
   ],
   "source": [
    "3.2925078026268055 + -10.898803562591137"
   ]
  },
  {
   "cell_type": "code",
   "execution_count": null,
   "id": "2d5ab2d2",
   "metadata": {},
   "outputs": [],
   "source": []
  }
 ],
 "metadata": {
  "kernelspec": {
   "display_name": "Python 3 (ipykernel)",
   "language": "python",
   "name": "python3"
  },
  "language_info": {
   "codemirror_mode": {
    "name": "ipython",
    "version": 3
   },
   "file_extension": ".py",
   "mimetype": "text/x-python",
   "name": "python",
   "nbconvert_exporter": "python",
   "pygments_lexer": "ipython3",
   "version": "3.9.16"
  }
 },
 "nbformat": 4,
 "nbformat_minor": 5
}
