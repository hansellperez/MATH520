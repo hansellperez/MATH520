{
 "cells": [
  {
   "cell_type": "code",
   "execution_count": null,
   "id": "2315ce73",
   "metadata": {},
   "outputs": [],
   "source": [
    "import numpy as np\n",
    "\n",
    "def shapeFn1d(i, x, x1, x2, p):\n",
    "    \n",
    "    if x < x1 or x > x2:\n",
    "        return 0  \n",
    "    \n",
    "    if p == 1:  \n",
    "        if i == 0:\n",
    "            return (x2 - x) / (x2 - x1)\n",
    "        elif i == 1:\n",
    "            return (x - x1) / (x2 - x1)\n",
    "    \n",
    "    elif p == 2: \n",
    "        mid = (x1 + x2) / 2  \n",
    "        \n",
    "        if i == 0:\n",
    "            return (x - mid) * (x - x2) / ((x1 - mid) * (x1 - x2))\n",
    "        elif i == 1:\n",
    "            return (x - x1) * (x - x2) / ((mid - x1) * (mid - x2))\n",
    "        elif i == 2:\n",
    "            return (x - x1) * (x - mid) / ((x2 - x1) * (x2 - mid))\n",
    "    \n",
    "    return 0  \n",
    "\n",
    "\n",
    "def shapeFnDer1d(i, x, x1, x2, p):\n",
    "    \n",
    "    if x < x1 or x > x2:\n",
    "        return 0  \n",
    "    \n",
    "    if p == 1:  \n",
    "        if i == 0:\n",
    "            return -1 / (x2 - x1)\n",
    "        elif i == 1:\n",
    "            return 1 / (x2 - x1)\n",
    "    \n",
    "    elif p == 2:  \n",
    "        mid = (x1 + x2) / 2  \n",
    "        \n",
    "        if i == 0:\n",
    "            return ((2*x - x2 - mid) / ((x1 - mid) * (x1 - x2)))\n",
    "        elif i == 1:\n",
    "            return ((2*x - x1 - x2) / ((mid - x1) * (mid - x2)))\n",
    "        elif i == 2:\n",
    "            return ((2*x - x1 - mid) / ((x2 - x1) * (x2 - mid)))\n",
    "    \n",
    "    return 0  "
   ]
  },
  {
   "cell_type": "code",
   "execution_count": null,
   "id": "3f3ec4a5",
   "metadata": {},
   "outputs": [],
   "source": [
    "import numpy as np\n",
    "\n",
    "def gaussQuadStd1d(g, noOfIntegPt):\n",
    "    \n",
    "    if noOfIntegPt == 2:\n",
    "        points = np.array([-1/np.sqrt(3), 1/np.sqrt(3)])\n",
    "        weights = np.array([1, 1])\n",
    "    \n",
    "    elif noOfIntegPt == 3:\n",
    "        points = np.array([-np.sqrt(3/5), 0, np.sqrt(3/5)])\n",
    "        weights = np.array([5/9, 8/9, 5/9])\n",
    "    \n",
    "    else:\n",
    "        return 0\n",
    "    return sum(w * g(xi) for w, xi in zip(weights, points))\n"
   ]
  },
  {
   "cell_type": "code",
   "execution_count": null,
   "id": "19b6a51c",
   "metadata": {},
   "outputs": [],
   "source": [
    "def gaussQuad1d(fn, lowerLimit, upperLimit, noOfIntegPt):\n",
    "    transform = lambda ξ: (upperLimit - lowerLimit) / 2 * ξ + (upperLimit + lowerLimit) / 2\n",
    "    g = lambda ξ: fn(transform(ξ)) * (upperLimit - lowerLimit) / 2 \n",
    "\n",
    "    return gaussQuadStd1d(g, noOfIntegPt)\n"
   ]
  }
 ],
 "metadata": {
  "kernelspec": {
   "display_name": "Python 3 (ipykernel)",
   "language": "python",
   "name": "python3"
  },
  "language_info": {
   "codemirror_mode": {
    "name": "ipython",
    "version": 3
   },
   "file_extension": ".py",
   "mimetype": "text/x-python",
   "name": "python",
   "nbconvert_exporter": "python",
   "pygments_lexer": "ipython3",
   "version": "3.9.16"
  }
 },
 "nbformat": 4,
 "nbformat_minor": 5
}
