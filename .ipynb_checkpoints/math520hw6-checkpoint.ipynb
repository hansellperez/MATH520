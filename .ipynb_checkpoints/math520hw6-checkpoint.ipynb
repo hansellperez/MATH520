{
 "cells": [
  {
   "cell_type": "code",
   "execution_count": 1,
   "id": "b46fc8c1",
   "metadata": {},
   "outputs": [],
   "source": [
    "import numpy as np\n",
    "\n",
    "def gaussQuadStd1d(g, noOfIntegPt):\n",
    "    \"\"\"Computes the integral ∫ g(ξ) dξ using Gaussian quadrature on [-1,1]\"\"\"\n",
    "    if noOfIntegPt == 2:\n",
    "        points = np.array([-1/np.sqrt(3), 1/np.sqrt(3)])\n",
    "        weights = np.array([1, 1])\n",
    "    elif noOfIntegPt == 3:\n",
    "        points = np.array([-np.sqrt(3/5), 0, np.sqrt(3/5)])\n",
    "        weights = np.array([5/9, 8/9, 5/9])\n",
    "    else:\n",
    "        return 0\n",
    "    \n",
    "    return sum(w * g(xi) for w, xi in zip(weights, points))\n",
    "\n",
    "def gaussQuad1d(fn, lowerLimit, upperLimit, noOfIntegPt):\n",
    "    transform = lambda ξ: (upperLimit - lowerLimit) / 2 * ξ + (upperLimit + lowerLimit) / 2\n",
    "    g = lambda ξ: fn(transform(ξ)) * (upperLimit - lowerLimit) / 2 \n",
    "\n",
    "    return gaussQuadStd1d(g, noOfIntegPt)\n",
    "\n",
    "def shapeFn1d(i, x, x1, x2, p):\n",
    "    \n",
    "    if x < x1 or x > x2:\n",
    "        return 0  \n",
    "    \n",
    "    if p == 1:  \n",
    "        if i == 1:\n",
    "            return (x2 - x) / (x2 - x1)\n",
    "        elif i == 2:\n",
    "            return (x - x1) / (x2 - x1)\n",
    "    \n",
    "    elif p == 2: \n",
    "        mid = (x1 + x2) / 2  \n",
    "        \n",
    "        if i == 1:\n",
    "            return (x - mid) * (x - x2) / ((x1 - mid) * (x1 - x2))\n",
    "        elif i == 2:\n",
    "            return (x - x1) * (x - x2) / ((mid - x1) * (mid - x2))\n",
    "        elif i == 3:\n",
    "            return (x - x1) * (x - mid) / ((x2 - x1) * (x2 - mid))\n",
    "    \n",
    "    return 0  \n",
    "\n",
    "\n",
    "def shapeFnDer1d(i, x, x1, x2, p):\n",
    "    \n",
    "    if x < x1 or x > x2:\n",
    "        return 0  \n",
    "    \n",
    "    if p == 1:  \n",
    "        if i == 1:\n",
    "            return -1 / (x2 - x1)\n",
    "        elif i == 2:\n",
    "            return 1 / (x2 - x1)\n",
    "    \n",
    "    elif p == 2:  \n",
    "        mid = (x1 + x2) / 2  \n",
    "        \n",
    "        if i == 1:\n",
    "            return ((2*x - x2 - mid) / ((x1 - mid) * (x1 - x2)))\n",
    "        elif i == 2:\n",
    "            return ((2*x - x1 - x2) / ((mid - x1) * (mid - x2)))\n",
    "        elif i == 3:\n",
    "            return ((2*x - x1 - mid) / ((x2 - x1) * (x2 - mid)))\n",
    "    \n",
    "    return 0\n",
    "def meij(e, i, j, xh, shapeFn, noOfIntegPt):\n",
    "    \"\"\"Computes the mass matrix entry M^e_ij.\"\"\"\n",
    "    x1, x2 = xh[e-1], xh[e]\n",
    "    \n",
    "    def integrand(xi):\n",
    "        x = 0.5 * ((x2 - x1) * xi + x1 + x2)  # Transform ξ to x\n",
    "        return shapeFn1d(i, x, x1, x2, shapeFn) * shapeFn1d(j, x, x1, x2, shapeFn) * (x2 - x1) / 2\n",
    "\n",
    "    return gaussQuadStd1d(integrand, noOfIntegPt)\n",
    "\n",
    "def keij(a, c, e, i, j, xh, shapeFn, noOfIntegPt):\n",
    "    \"\"\"Computes the stiffness matrix entry K^e_ij.\"\"\"\n",
    "    x1, x2 = xh[e-1], xh[e]\n",
    "\n",
    "    def integrand(xi):\n",
    "        x = 0.5 * ((x2 - x1) * xi + x1 + x2)  # Transform ξ to x\n",
    "        a_val = a(x)\n",
    "        c_val = c(x)\n",
    "        dphi_i = shapeFnDer1d(i, x, x1, x2, shapeFn)\n",
    "        dphi_j = shapeFnDer1d(j, x, x1, x2, shapeFn)\n",
    "        phi_i = shapeFn1d(i, x, x1, x2, shapeFn)\n",
    "        phi_j = shapeFn1d(j, x, x1, x2, shapeFn)\n",
    "\n",
    "        return (a_val * dphi_i * dphi_j + c_val * phi_i * phi_j) * (x2 - x1) / 2\n",
    "\n",
    "    return gaussQuadStd1d(integrand, noOfIntegPt)\n",
    "\n",
    "def fei(a, c, f, p0, e, i, xh, shapeFn, noOfIntegPt):\n",
    "    \"\"\"Computes the load vector entry F^e_i.\"\"\"\n",
    "    x1, x2 = xh[e-1], xh[e]\n",
    "\n",
    "    def integrand(xi):\n",
    "        x = 0.5 * ((x2 - x1) * xi + x1 + x2)  # Transform ξ to x\n",
    "        f_val = f(x)\n",
    "        a_val = a(x)\n",
    "        c_val = c(x)\n",
    "        dphi_i = shapeFnDer1d(i, x, x1, x2, shapeFn)\n",
    "        phi_i = shapeFn1d(i, x, x1, x2, shapeFn)\n",
    "        G = p0*shapeFn1d(1,x,x1,x2,shapeFn)\n",
    "        Gx = p0*shapeFnDer1d(1,x,x1,x2,shapeFn)\n",
    "        return (f_val * shapeFn1d(i, x, x1, x2, shapeFn) - a_val*Gx*dphi_i - c_val*G*phi_i) * (x2 - x1) / 2\n",
    "\n",
    "    return gaussQuadStd1d(integrand, noOfIntegPt)\n",
    "    \n",
    "    if e == 1 and i == 1:  # Adjust for Dirichlet boundary at x=0\n",
    "        fei -= p0 * a(x1) * shapeFn1d(i, x1, x1, x2, shapeFn)"
   ]
  },
  {
   "cell_type": "code",
   "execution_count": 39,
   "id": "87ff5e24",
   "metadata": {},
   "outputs": [
    {
     "name": "stdout",
     "output_type": "stream",
     "text": [
      "meij(4,1,2,xh,1,3) = 0.06666666666666668\n",
      "keij(a,c,4,1,2,xh,1,3) = -15.340000000000003\n",
      "fei(a,c,f,p0,1,2,xh,1,3) = 3.2924848499213506\n"
     ]
    }
   ],
   "source": [
    "a = lambda x: 3*x + x**2\n",
    "c = lambda x: x\n",
    "f = lambda x: np.sin(x)\n",
    "p0 = 2\n",
    "xh = np.linspace(0.,2.,6)\n",
    "print(f'meij(4,1,2,xh,1,3) = { meij(4,1,2,xh,1,3) }')\n",
    "print(f'keij(a,c,4,1,2,xh,1,3) = {keij(a,c,4,1,2,xh,1,3) }')\n",
    "print(f'fei(a,c,f,p0,1,2,xh,1,3) = {fei(a,c,f,p0,1,2,xh,1,3)}')"
   ]
  },
  {
   "cell_type": "code",
   "execution_count": 3,
   "id": "80ccfa68",
   "metadata": {},
   "outputs": [
    {
     "name": "stdout",
     "output_type": "stream",
     "text": [
      " meij(4,3,2,xh,2,3) = 0.026666666666666672\n",
      " keij(a,c,4,1,2,xh,2,3) = -37.32799999999999\n",
      " fei(a,c,f,p0,1,2,xh,2,3) = 4.372766997748158\n"
     ]
    }
   ],
   "source": [
    "print(f' meij(4,3,2,xh,2,3) = {meij(4,3,2,xh,2,3)}')\n",
    "print(f' keij(a,c,4,1,2,xh,2,3) = {keij(a,c,4,1,2,xh,2,3) }')\n",
    "print(f' fei(a,c,f,p0,1,2,xh,2,3) = {fei(a,c,f,p0,1,2,xh,2,3) }')"
   ]
  },
  {
   "cell_type": "code",
   "execution_count": 51,
   "id": "bd5e38bc",
   "metadata": {},
   "outputs": [],
   "source": [
    "import numpy as np\n",
    "import scipy.sparse as sp\n",
    "\n",
    "def massM(xh, shapeFn, noOfIntegPt):\n",
    "    \n",
    "    n_elem = len(xh) - 1  # Number of elements\n",
    "    n_nodes = n_elem * shapeFn  # Total nodes based on shape function order\n",
    "    \n",
    "    # Initialize sparse matrix\n",
    "    M = sp.lil_matrix((n_nodes, n_nodes))\n",
    "    \n",
    "    # Loop over each element\n",
    "    for e in range(1, n_elem + 1):\n",
    "        x1, x2 = xh[e-1], xh[e]  # Element endpoints\n",
    "        \n",
    "        # Local mass matrix for element e\n",
    "        local_M = np.zeros((shapeFn + 1, shapeFn + 1))\n",
    "        \n",
    "        for i in range(1, shapeFn + 2):\n",
    "            for j in range(1, shapeFn + 2):\n",
    "                local_M[i-1, j-1] = meij(e, i, j, xh, shapeFn, noOfIntegPt)\n",
    "        \n",
    "        # Assemble into global matrix\n",
    "        if shapeFn == 1:\n",
    "            if e == 1:\n",
    "                M[0,0] = local_M[-1,-1]\n",
    "            else:\n",
    "                start = e - 2\n",
    "                for i in range(shapeFn + 1):\n",
    "                    for j in range(shapeFn + 1):\n",
    "                        global_i = start + i\n",
    "                        global_j = start + j\n",
    "                        M[global_i, global_j] += local_M[i, j]\n",
    "        else:\n",
    "            if e == 1:\n",
    "                for i in range(1,3):\n",
    "                    for j in range(1,3):\n",
    "                        M[i-1,j-1] = local_M[i,j]\n",
    "            else:\n",
    "                for i in range(shapeFn + 1):\n",
    "                    for j in range(shapeFn + 1):\n",
    "                        global_i = 2*e - 3 + i        \n",
    "                        global_j = 2*e - 3 + j\n",
    "                        M[global_i, global_j] += local_M[i,j]\n",
    "    \n",
    "    return M.tocsr()  # Convert to CSR format for efficiency\n"
   ]
  },
  {
   "cell_type": "code",
   "execution_count": 40,
   "id": "9ae8280c",
   "metadata": {},
   "outputs": [
    {
     "name": "stdout",
     "output_type": "stream",
     "text": [
      "massM(xh, 1, 2) = \n",
      "  (0, 0)\t0.2666666666666667\n",
      "  (0, 1)\t0.06666666666666664\n",
      "  (1, 0)\t0.06666666666666664\n",
      "  (1, 1)\t0.2666666666666668\n",
      "  (1, 2)\t0.06666666666666665\n",
      "  (2, 1)\t0.06666666666666665\n",
      "  (2, 2)\t0.26666666666666683\n",
      "  (2, 3)\t0.06666666666666662\n",
      "  (3, 2)\t0.06666666666666662\n",
      "  (3, 3)\t0.2666666666666667\n",
      "  (3, 4)\t0.06666666666666662\n",
      "  (4, 3)\t0.06666666666666662\n",
      "  (4, 4)\t0.13333333333333336\n"
     ]
    }
   ],
   "source": [
    "print(f'massM(xh, 1, 2) = ')\n",
    "print(f'{massM(xh, 1, 2) }')"
   ]
  },
  {
   "cell_type": "code",
   "execution_count": 52,
   "id": "27d37248",
   "metadata": {
    "scrolled": true
   },
   "outputs": [
    {
     "name": "stdout",
     "output_type": "stream",
     "text": [
      "massM(xh, 2, 2) = \n",
      "  (0, 0)\t0.2222222222222222\n",
      "  (0, 1)\t0.055555555555555566\n",
      "  (1, 0)\t0.055555555555555566\n",
      "  (1, 1)\t0.11111111111111108\n",
      "  (1, 2)\t0.05555555555555555\n",
      "  (1, 3)\t-0.027777777777777776\n",
      "  (2, 1)\t0.05555555555555555\n",
      "  (2, 2)\t0.22222222222222227\n",
      "  (2, 3)\t0.05555555555555555\n",
      "  (3, 1)\t-0.027777777777777776\n",
      "  (3, 2)\t0.05555555555555555\n",
      "  (3, 3)\t0.11111111111111119\n",
      "  (3, 4)\t0.055555555555555594\n",
      "  (3, 5)\t-0.027777777777777797\n",
      "  (4, 3)\t0.055555555555555594\n",
      "  (4, 4)\t0.2222222222222219\n",
      "  (4, 5)\t0.055555555555555594\n",
      "  (5, 3)\t-0.027777777777777797\n",
      "  (5, 4)\t0.055555555555555594\n",
      "  (5, 5)\t0.05555555555555566\n"
     ]
    }
   ],
   "source": [
    "xh = np.linspace(0.,1.5,4)\n",
    "print(f'massM(xh, 2, 2) = ')\n",
    "print(f'{massM(xh, 2, 2) }')"
   ]
  },
  {
   "cell_type": "code",
   "execution_count": 6,
   "id": "209617cd",
   "metadata": {},
   "outputs": [],
   "source": [
    "import numpy as np\n",
    "import scipy.sparse as sp\n",
    "\n",
    "def stiffK(a, c, xh, shapeFn, noOfIntegPt):\n",
    "    \n",
    "    n_elem = len(xh) - 1  # Number of elements\n",
    "    n_nodes = n_elem * shapeFn  # Total nodes based on shape function order\n",
    "\n",
    "    # Initialize sparse matrix\n",
    "    K = sp.lil_matrix((n_nodes, n_nodes))\n",
    "\n",
    "    # Loop over each element\n",
    "    for e in range(1, n_elem + 1):\n",
    "        x1, x2 = xh[e-1], xh[e]  # Element endpoints\n",
    "        \n",
    "        # Local stiffness matrix for element e\n",
    "        local_K = np.zeros((shapeFn + 1, shapeFn + 1))\n",
    "        \n",
    "        for i in range(1, shapeFn + 2):\n",
    "            for j in range(1, shapeFn + 2):\n",
    "                local_K[i-1, j-1] = keij(a, c, e, i, j, xh, shapeFn, noOfIntegPt)\n",
    "\n",
    "        # Assemble into global matrix\n",
    "        for i in range(shapeFn + 1):\n",
    "            for j in range(shapeFn + 1):\n",
    "                global_i = (e - 1) * shapeFn + i\n",
    "                global_j = (e - 1) * shapeFn + j\n",
    "                K[global_i, global_j] += local_K[i, j]\n",
    "\n",
    "    return K.tocsr()  # Convert to CSR format for efficient calculations\n"
   ]
  },
  {
   "cell_type": "code",
   "execution_count": null,
   "id": "1de28a2d",
   "metadata": {},
   "outputs": [],
   "source": [
    "print(f'stiffK(a, c, xh, 1, 2) = ')\n",
    "print(f'{stiffK(a, c, xh, 1, 2)}')"
   ]
  },
  {
   "cell_type": "code",
   "execution_count": null,
   "id": "5c68b901",
   "metadata": {},
   "outputs": [],
   "source": [
    "print(f'stiffK(a, c, xh, 2, 2) = ')\n",
    "print(f'{stiffK(a, c, xh, 2, 2)}')"
   ]
  },
  {
   "cell_type": "code",
   "execution_count": 7,
   "id": "2d1d2ed1",
   "metadata": {},
   "outputs": [],
   "source": [
    "import numpy as np\n",
    "\n",
    "def loadF(a, c, f, p0, QL, xh, shapeFn, noOfIntegPt):\n",
    "    \n",
    "    n_elem = len(xh) - 1  # Number of elements\n",
    "    n_nodes = n_elem * shapeFn + 1  # Total nodes based on shape function order\n",
    "\n",
    "    # Initialize global load vector\n",
    "    F = np.zeros(n_nodes)\n",
    "\n",
    "    # Loop over elements\n",
    "    for e in range(1, n_elem + 1):\n",
    "        x1, x2 = xh[e-1], xh[e]  # Element endpoints\n",
    "        \n",
    "        # Local load vector\n",
    "        local_F = np.zeros(shapeFn + 1)\n",
    "\n",
    "        for i in range(1, shapeFn + 2):\n",
    "            local_F[i-1] = fei(a, c, f, p0, e, i, xh, shapeFn, noOfIntegPt)\n",
    "\n",
    "        # Assemble local contributions into global load vector\n",
    "        for i in range(shapeFn + 1):\n",
    "            global_i = (e - 1) * shapeFn + i\n",
    "            F[global_i] += local_F[i]\n",
    "\n",
    "    # Apply Neumann boundary condition at x = L\n",
    "    F[-1] += QL\n",
    "\n",
    "    return F\n"
   ]
  },
  {
   "cell_type": "code",
   "execution_count": null,
   "id": "21eb937d",
   "metadata": {},
   "outputs": [],
   "source": [
    "print(f'loadF(a,c,f,p0,-3,xh,1, 2) = {loadF(a, c, f, p0, -3, xh, 1, 2)}')"
   ]
  },
  {
   "cell_type": "code",
   "execution_count": null,
   "id": "4356bd28",
   "metadata": {},
   "outputs": [],
   "source": [
    "print(f'loadF(a,c,f,p0,-3,xh,2,2) = {loadF(a,c,f,p0,-3,xh,2,2)}')"
   ]
  },
  {
   "cell_type": "code",
   "execution_count": 8,
   "id": "66660361",
   "metadata": {},
   "outputs": [],
   "source": [
    "import numpy as np\n",
    "\n",
    "def L2norm1d(f, a, b, numElmnt):\n",
    "    \n",
    "    # Divide [a, b] into numElmnt subintervals\n",
    "    xh = np.linspace(a, b, numElmnt + 1)\n",
    "\n",
    "    integral_value = 0  # Initialize sum for integral\n",
    "\n",
    "    # Loop over each element [xh[i], xh[i+1]]\n",
    "    for i in range(numElmnt):\n",
    "        xl, xr = xh[i], xh[i + 1]\n",
    "        \n",
    "        # Function to integrate (f squared)\n",
    "        integrand = lambda x: f(x) ** 2\n",
    "        \n",
    "        # Integrate over subinterval\n",
    "        integral_value += gaussQuad1d(integrand, xl, xr, 3)  # 3-point Gaussian quadrature\n",
    "\n",
    "    return np.sqrt(integral_value)  # Compute L2 norm\n"
   ]
  },
  {
   "cell_type": "code",
   "execution_count": null,
   "id": "441dbbaf",
   "metadata": {},
   "outputs": [],
   "source": [
    "print(f'L2norm1d(f,0,2,5)={L2norm1d(f,0,2,5)}')"
   ]
  },
  {
   "cell_type": "code",
   "execution_count": null,
   "id": "80234ff0",
   "metadata": {},
   "outputs": [],
   "source": [
    "f = lambda x: 3*x*np.sin(x)\n",
    "print(L2norm1d(f,-2.44,1.77,9))"
   ]
  },
  {
   "cell_type": "code",
   "execution_count": 21,
   "id": "36d87bc7",
   "metadata": {},
   "outputs": [
    {
     "data": {
      "text/plain": [
       "4"
      ]
     },
     "execution_count": 21,
     "metadata": {},
     "output_type": "execute_result"
    }
   ],
   "source": [
    "len(np.array([1, .2, .5, .8]))"
   ]
  },
  {
   "cell_type": "code",
   "execution_count": 39,
   "id": "24b2254a",
   "metadata": {},
   "outputs": [
    {
     "name": "stdout",
     "output_type": "stream",
     "text": [
      "1\n",
      "2\n",
      "3\n",
      "4\n"
     ]
    }
   ],
   "source": [
    "for i in range(1,5):\n",
    "    print(i)"
   ]
  },
  {
   "cell_type": "code",
   "execution_count": 41,
   "id": "f2061efc",
   "metadata": {},
   "outputs": [
    {
     "name": "stdout",
     "output_type": "stream",
     "text": [
      "0\n",
      "1\n",
      "2\n",
      "3\n",
      "4\n"
     ]
    }
   ],
   "source": [
    "for i in range(5):\n",
    "    print(i)"
   ]
  },
  {
   "cell_type": "code",
   "execution_count": 10,
   "id": "f8153e20",
   "metadata": {},
   "outputs": [
    {
     "name": "stdout",
     "output_type": "stream",
     "text": [
      "[0.  0.4 0.8 1.2 1.6 2. ]\n"
     ]
    }
   ],
   "source": [
    "xh = np.linspace(0.,2.,6)\n",
    "print(xh)"
   ]
  },
  {
   "cell_type": "code",
   "execution_count": 29,
   "id": "595ba935",
   "metadata": {},
   "outputs": [],
   "source": [
    "array_2d = np.array([\n",
    "    [1, 2, 3, 4],\n",
    "    [5, 6, 7, 8],\n",
    "    [9, 10, 11, 12]\n",
    "])"
   ]
  },
  {
   "cell_type": "code",
   "execution_count": 34,
   "id": "14bf4d95",
   "metadata": {},
   "outputs": [
    {
     "data": {
      "text/plain": [
       "array([[2]])"
      ]
     },
     "execution_count": 34,
     "metadata": {},
     "output_type": "execute_result"
    }
   ],
   "source": [
    "array_2d[0:1,1:2]"
   ]
  },
  {
   "cell_type": "code",
   "execution_count": null,
   "id": "6c0999ec",
   "metadata": {},
   "outputs": [],
   "source": []
  }
 ],
 "metadata": {
  "kernelspec": {
   "display_name": "Python 3 (ipykernel)",
   "language": "python",
   "name": "python3"
  },
  "language_info": {
   "codemirror_mode": {
    "name": "ipython",
    "version": 3
   },
   "file_extension": ".py",
   "mimetype": "text/x-python",
   "name": "python",
   "nbconvert_exporter": "python",
   "pygments_lexer": "ipython3",
   "version": "3.9.16"
  }
 },
 "nbformat": 4,
 "nbformat_minor": 5
}
