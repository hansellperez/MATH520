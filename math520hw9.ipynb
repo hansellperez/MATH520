{
 "cells": [
  {
   "cell_type": "code",
   "execution_count": null,
   "id": "7185d6a7",
   "metadata": {},
   "outputs": [],
   "source": [
    "import numpy as np\n",
    "\n",
    "def keij2d(k, e, i, j, triangles, nodes, shapeFn, noOfIntegPt):\n",
    "    \"\"\"\n",
    "    Computes the (i,j)-th entry of the stiffness matrix for the e-th element.\n",
    "    \"\"\"\n",
    "\n",
    "    # Adjust from 1-based to 0-based indexing\n",
    "    e_idx = e - 1\n",
    "    i_idx = i - 1\n",
    "    j_idx = j - 1\n",
    "\n",
    "    # Get node indices for the triangle\n",
    "    elem_nodes = triangles[e_idx, :]\n",
    "    coords = nodes[elem_nodes, :]\n",
    "\n",
    "    x1, y1 = coords[0]\n",
    "    x2, y2 = coords[1]\n",
    "    x3, y3 = coords[2]\n",
    "\n",
    "    def integrand(x, y):\n",
    "        grad_psi_i = shapeFnGrad2d(i, x, y, x1, y1, x2, y2, x3, y3, shapeFn)\n",
    "        grad_psi_j = shapeFnGrad2d(j, x, y, x1, y1, x2, y2, x3, y3, shapeFn)\n",
    "        return k(x, y) * np.dot(grad_psi_j, grad_psi_i)\n",
    "\n",
    "    return quad2dTri(integrand, x1, y1, x2, y2, x3, y3, noOfIntegPt)\n"
   ]
  }
 ],
 "metadata": {
  "kernelspec": {
   "display_name": "Python 3 (ipykernel)",
   "language": "python",
   "name": "python3"
  },
  "language_info": {
   "codemirror_mode": {
    "name": "ipython",
    "version": 3
   },
   "file_extension": ".py",
   "mimetype": "text/x-python",
   "name": "python",
   "nbconvert_exporter": "python",
   "pygments_lexer": "ipython3",
   "version": "3.9.16"
  }
 },
 "nbformat": 4,
 "nbformat_minor": 5
}
